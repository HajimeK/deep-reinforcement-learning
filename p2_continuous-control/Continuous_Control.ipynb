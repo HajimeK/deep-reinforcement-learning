{
 "cells": [
  {
   "cell_type": "markdown",
   "metadata": {},
   "source": [
    "# Continuous Control\n",
    "\n",
    "---\n",
    "\n",
    "[image1]: https://user-images.githubusercontent.com/10624937/43851024-320ba930-9aff-11e8-8493-ee547c6af349.gif \"Trained Agent\"\n",
    "[image2]: https://user-images.githubusercontent.com/10624937/43851646-d899bf20-9b00-11e8-858c-29b5c2c94ccc.png \"Crawler\"\n",
    "\n",
    "### Introduction\n",
    "\n",
    "For this project, I worked with the [Reacher](https://github.com/Unity-Technologies/ml-agents/blob/master/docs/Learning-Environment-Examples.md#reacher) environment.\n",
    "\n",
    "![Trained Agent][image1]\n",
    "\n",
    "\n",
    "\n",
    "### 1. Start the Environment\n",
    "\n",
    "We begin by importing the necessary packages."
   ]
  },
  {
   "cell_type": "code",
   "execution_count": 1,
   "metadata": {},
   "outputs": [],
   "source": [
    "from unityagents import UnityEnvironment\n",
    "import random\n",
    "import torch\n",
    "import numpy as np\n",
    "from collections import deque\n",
    "import matplotlib.pyplot as plt\n",
    "%matplotlib inline\n",
    "\n",
    "from ddpg_agent import Agent"
   ]
  },
  {
   "cell_type": "markdown",
   "metadata": {},
   "source": [
    "Load the Unity-ML environment."
   ]
  },
  {
   "cell_type": "code",
   "execution_count": 2,
   "metadata": {},
   "outputs": [
    {
     "name": "stderr",
     "output_type": "stream",
     "text": [
      "INFO:unityagents:\n",
      "'Academy' started successfully!\n",
      "Unity Academy name: Academy\n",
      "        Number of Brains: 1\n",
      "        Number of External Brains : 1\n",
      "        Lesson number : 0\n",
      "        Reset Parameters :\n",
      "\t\tgoal_size -> 5.0\n",
      "\t\tgoal_speed -> 1.0\n",
      "Unity brain name: ReacherBrain\n",
      "        Number of Visual Observations (per agent): 0\n",
      "        Vector Observation space type: continuous\n",
      "        Vector Observation space size (per agent): 33\n",
      "        Number of stacked Vector Observation: 1\n",
      "        Vector Action space type: continuous\n",
      "        Vector Action space size (per agent): 4\n",
      "        Vector Action descriptions: , , , \n"
     ]
    }
   ],
   "source": [
    "env = UnityEnvironment(file_name='./Reacher_Linux_Multi/Reacher.x86_64')"
   ]
  },
  {
   "cell_type": "markdown",
   "metadata": {},
   "source": [
    "Environments contain **_brains_** which are responsible for deciding the actions of their associated agents. Here we check for the first brain available, and set it as the default brain we will be controlling from Python."
   ]
  },
  {
   "cell_type": "code",
   "execution_count": 3,
   "metadata": {},
   "outputs": [],
   "source": [
    "# get the default brain\n",
    "brain_name = env.brain_names[0]\n",
    "brain = env.brains[brain_name]"
   ]
  },
  {
   "cell_type": "markdown",
   "metadata": {},
   "source": [
    "### 2. Examine the State and Action Spaces\n",
    "\n",
    "In this environment, a double-jointed arm can move to target locations. A reward of `+0.1` is provided for each step that the agent's hand is in the goal location. Thus, the goal of your agent is to maintain its position at the target location for as many time steps as possible.\n",
    "\n",
    "The observation space consists of **`33`** variables corresponding to position, rotation, velocity, and angular velocities of the arm.  Each action is a vector with four numbers, corresponding to torque applicable to two joints.  Every entry in the action vector must be a number between `-1` and `1`.\n",
    "\n",
    "As summarize the environment:\n",
    "* Number of agents: 20\n",
    "* Size of each action: 4\n",
    "* There are 20 agents. Each observes a state with length: 33\n",
    "\n",
    "Run the code cell below to print some information about the environment."
   ]
  },
  {
   "cell_type": "code",
   "execution_count": 4,
   "metadata": {},
   "outputs": [
    {
     "name": "stdout",
     "output_type": "stream",
     "text": [
      "Number of agents: 20\n",
      "Size of each action: 4\n",
      "There are 20 agents. Each observes a state with length: 33\n",
      "The state for the first agent looks like: [ 0.00000000e+00 -4.00000000e+00  0.00000000e+00  1.00000000e+00\n",
      " -0.00000000e+00 -0.00000000e+00 -4.37113883e-08  0.00000000e+00\n",
      "  0.00000000e+00  0.00000000e+00  0.00000000e+00  0.00000000e+00\n",
      "  0.00000000e+00  0.00000000e+00 -1.00000000e+01  0.00000000e+00\n",
      "  1.00000000e+00 -0.00000000e+00 -0.00000000e+00 -4.37113883e-08\n",
      "  0.00000000e+00  0.00000000e+00  0.00000000e+00  0.00000000e+00\n",
      "  0.00000000e+00  0.00000000e+00  5.75471878e+00 -1.00000000e+00\n",
      "  5.55726624e+00  0.00000000e+00  1.00000000e+00  0.00000000e+00\n",
      " -1.68164849e-01]\n"
     ]
    }
   ],
   "source": [
    "# reset the environment\n",
    "env_info = env.reset(train_mode=True)[brain_name]\n",
    "\n",
    "# number of agents\n",
    "num_agents = len(env_info.agents)\n",
    "print('Number of agents:', num_agents)\n",
    "\n",
    "# size of each action\n",
    "action_size = brain.vector_action_space_size\n",
    "print('Size of each action:', action_size)\n",
    "\n",
    "# examine the state space \n",
    "states = env_info.vector_observations\n",
    "state_size = states.shape[1]\n",
    "print('There are {} agents. Each observes a state with length: {}'.format(states.shape[0], state_size))\n",
    "print('The state for the first agent looks like:', states[0])"
   ]
  },
  {
   "cell_type": "markdown",
   "metadata": {},
   "source": [
    "### 3. Implement DDPG\n",
    "\n",
    "Here in this report, Deep Deterministic Policy Gradients (DDPG) algorithm is used for the arms to continuously touch to the  target.\n",
    "DDPG is one of the policy gradient method to learn deterministic function to decide the agent's behavior.\n",
    "Following Actor and Critic improves each, so in the end, Actor Network to output values that improves value out of Critic Network.\n",
    "\n",
    "Actor Neural Network, each connected with ReLU, except final output, which is tanh.\n",
    "\n",
    "        self.fc1 = nn.Linear(state_size, fc1_units)\n",
    "        self.fc2 = nn.Linear(fc1_units, fc2_units)\n",
    "        self.fc3 = nn.Linear(fc2_units, action_size)\n",
    "        \n",
    "![ActorNW.png](ActorNW.png)\n",
    "        \n",
    "Critic Neural Network, each connected with ReLU\n",
    "\n",
    "Critic network is uses Q-Network, and introduced the following network for optimization.\n",
    "\n",
    "        self.fcs1 = nn.Linear(state_size, fcs1_units)\n",
    "        self.fc2 = nn.Linear(fcs1_units+action_size, fc2_units)\n",
    "        self.fc3 = nn.Linear(fc2_units, 1)\n",
    "\n",
    "![CriticNW.png](CriticNW.png)\n",
    "\n",
    "cf. \n",
    "- https://pemami4911.github.io/blog/2016/08/21/ddpg-rl.html\n",
    "- https://arxiv.org/abs/1509.02971"
   ]
  },
  {
   "cell_type": "code",
   "execution_count": 5,
   "metadata": {
    "scrolled": true
   },
   "outputs": [],
   "source": [
    "def ddpg(agent, n_episodes=100, max_t=790, print_every=100):\n",
    "    scores_deque = deque(maxlen=print_every)\n",
    "    average_scores = []\n",
    "    over30 = False\n",
    "    for i_episode in range(1, n_episodes+1):\n",
    "        env_info = env.reset(train_mode=True)[brain_name]\n",
    "        states = env_info.vector_observations\n",
    "        agent.reset()\n",
    "        scores = np.zeros(num_agents)\n",
    "        moving_avgs = []                               # list of moving averages\n",
    "        \n",
    "        for t in range(max_t):\n",
    "            actions = agent.act(states)\n",
    "            env_info = env.step(actions)[brain_name]        # send the action to the environment\n",
    "            next_states = env_info.vector_observations   # get the next state\n",
    "            rewards = env_info.rewards                   # get the reward\n",
    "            dones = env_info.local_done\n",
    "\n",
    "            for state, action, reward, next_state, done in zip(states, actions, rewards, next_states, dones):\n",
    "                agent.step(state, action, reward, next_state, done)             \n",
    "            states = next_states\n",
    "            scores += rewards        \n",
    "            if np.any(dones):                                   # exit loop when episode ends\n",
    "                break\n",
    "\n",
    "        average_scores.append(np.mean(scores))\n",
    "        \n",
    "        print('\\rEpisode {}\\tAverage Score: {:.2f}'.format(i_episode, average_scores[-1]), end=\"\")\n",
    "        torch.save(agent.actor_local.state_dict(), 'checkpoint_actor.pth')\n",
    "        torch.save(agent.critic_local.state_dict(), 'checkpoint_critic.pth')\n",
    "        if i_episode % print_every == 0:\n",
    "            print('\\rEpisode {}\\tAverage Score: {:.2f}'.format(i_episode, average_scores[-1]))\n",
    "        if over30 == False:\n",
    "            if average_scores[-1] > 30:\n",
    "                print('\\rEnvironment solved in {} episodes with an Average Score of {:.2f}'.format(i_episode, average_scores[-1]))\n",
    "                over30 = True\n",
    "                #return average_scores # Continue\n",
    "            \n",
    "    return average_scores"
   ]
  },
  {
   "cell_type": "code",
   "execution_count": 6,
   "metadata": {},
   "outputs": [],
   "source": [
    "def plotscores(scores):\n",
    "    fig = plt.figure()\n",
    "    ax = fig.add_subplot(111)\n",
    "    plt.plot(np.arange(1, len(scores)+1), scores)\n",
    "    plt.ylabel('Score')\n",
    "    plt.xlabel('Episode #')\n",
    "    plt.show()"
   ]
  },
  {
   "cell_type": "markdown",
   "metadata": {},
   "source": [
    "### 4. Seach for better hyper parameters value\n",
    "\n",
    "Following is selected hyperparameter valued to be adjuested in this report.\n",
    "\n",
    "| Hyper Parameter | Description |\n",
    "|-|-|\n",
    "| _BUFFER_SIZE | replay buffer size |\n",
    "| _BATCH_SIZE |  minibatch size |\n",
    "| _GAMMA | discount factor |\n",
    "| _TAU | for soft update of target parameters |\n",
    "| _LR_ACTOR | learning rate of the actor |\n",
    "| _LR_CRITIC | learning rate of the critic |\n",
    "| _WEIGHT_DECAY | L2 weight decay |\n",
    "| _mu | Ornstein-Uhlenbeck process |\n",
    "| _theta | Ornstein-Uhlenbeck process |\n",
    "| _sigma | Ornstein-Uhlenbeck process |\n",
    "| _actor_fc1_units | Actor Layer 1 units |\n",
    "| _actor_fc2_units |  Actor Layer 2 units |\n",
    "| _critic_fc1_units | Critic Layer 1 units |\n",
    "| _critic_fc2_units | Critic Layer 2 units |\n",
    "\n",
    "\n",
    "To get a better hyperparameter values combinations, tries several patterns as below."
   ]
  },
  {
   "cell_type": "code",
   "execution_count": 11,
   "metadata": {},
   "outputs": [
    {
     "data": {
      "text/html": [
       "<div>\n",
       "<style scoped>\n",
       "    .dataframe tbody tr th:only-of-type {\n",
       "        vertical-align: middle;\n",
       "    }\n",
       "\n",
       "    .dataframe tbody tr th {\n",
       "        vertical-align: top;\n",
       "    }\n",
       "\n",
       "    .dataframe thead th {\n",
       "        text-align: right;\n",
       "    }\n",
       "</style>\n",
       "<table border=\"1\" class=\"dataframe\">\n",
       "  <thead>\n",
       "    <tr style=\"text-align: right;\">\n",
       "      <th></th>\n",
       "      <th>_BUFFER_SIZE</th>\n",
       "      <th>_BATCH_SIZE</th>\n",
       "      <th>_GAMMA</th>\n",
       "      <th>_TAU</th>\n",
       "      <th>_LR_ACTOR</th>\n",
       "      <th>_LR_CRITIC</th>\n",
       "      <th>_WEIGHT_DECAY</th>\n",
       "      <th>_mu</th>\n",
       "      <th>_theta</th>\n",
       "      <th>_sigma</th>\n",
       "      <th>_actor_fc1_units</th>\n",
       "      <th>_actor_fc2_units</th>\n",
       "      <th>_critic_fc1_units</th>\n",
       "      <th>_critic_fc2_units</th>\n",
       "    </tr>\n",
       "  </thead>\n",
       "  <tbody>\n",
       "    <tr>\n",
       "      <th>0</th>\n",
       "      <td>100000</td>\n",
       "      <td>128</td>\n",
       "      <td>0.99</td>\n",
       "      <td>0.001</td>\n",
       "      <td>0.0010</td>\n",
       "      <td>0.0010</td>\n",
       "      <td>0</td>\n",
       "      <td>0</td>\n",
       "      <td>0.15</td>\n",
       "      <td>0.1</td>\n",
       "      <td>128</td>\n",
       "      <td>128</td>\n",
       "      <td>128</td>\n",
       "      <td>128</td>\n",
       "    </tr>\n",
       "    <tr>\n",
       "      <th>1</th>\n",
       "      <td>100000</td>\n",
       "      <td>128</td>\n",
       "      <td>0.99</td>\n",
       "      <td>0.001</td>\n",
       "      <td>0.0001</td>\n",
       "      <td>0.0001</td>\n",
       "      <td>0</td>\n",
       "      <td>0</td>\n",
       "      <td>0.15</td>\n",
       "      <td>0.1</td>\n",
       "      <td>128</td>\n",
       "      <td>128</td>\n",
       "      <td>128</td>\n",
       "      <td>128</td>\n",
       "    </tr>\n",
       "    <tr>\n",
       "      <th>2</th>\n",
       "      <td>100000</td>\n",
       "      <td>128</td>\n",
       "      <td>0.90</td>\n",
       "      <td>0.001</td>\n",
       "      <td>0.0001</td>\n",
       "      <td>0.0001</td>\n",
       "      <td>0</td>\n",
       "      <td>0</td>\n",
       "      <td>0.15</td>\n",
       "      <td>0.1</td>\n",
       "      <td>128</td>\n",
       "      <td>128</td>\n",
       "      <td>128</td>\n",
       "      <td>128</td>\n",
       "    </tr>\n",
       "    <tr>\n",
       "      <th>3</th>\n",
       "      <td>100000</td>\n",
       "      <td>128</td>\n",
       "      <td>0.90</td>\n",
       "      <td>0.001</td>\n",
       "      <td>0.0001</td>\n",
       "      <td>0.0001</td>\n",
       "      <td>0</td>\n",
       "      <td>0</td>\n",
       "      <td>0.15</td>\n",
       "      <td>0.1</td>\n",
       "      <td>64</td>\n",
       "      <td>32</td>\n",
       "      <td>64</td>\n",
       "      <td>32</td>\n",
       "    </tr>\n",
       "  </tbody>\n",
       "</table>\n",
       "</div>"
      ],
      "text/plain": [
       "   _BUFFER_SIZE  _BATCH_SIZE  _GAMMA   _TAU  _LR_ACTOR  _LR_CRITIC  \\\n",
       "0        100000          128    0.99  0.001     0.0010      0.0010   \n",
       "1        100000          128    0.99  0.001     0.0001      0.0001   \n",
       "2        100000          128    0.90  0.001     0.0001      0.0001   \n",
       "3        100000          128    0.90  0.001     0.0001      0.0001   \n",
       "\n",
       "   _WEIGHT_DECAY  _mu  _theta  _sigma  _actor_fc1_units  _actor_fc2_units  \\\n",
       "0              0    0    0.15     0.1               128               128   \n",
       "1              0    0    0.15     0.1               128               128   \n",
       "2              0    0    0.15     0.1               128               128   \n",
       "3              0    0    0.15     0.1                64                32   \n",
       "\n",
       "   _critic_fc1_units  _critic_fc2_units  \n",
       "0                128                128  \n",
       "1                128                128  \n",
       "2                128                128  \n",
       "3                 64                 32  "
      ]
     },
     "execution_count": 11,
     "metadata": {},
     "output_type": "execute_result"
    }
   ],
   "source": [
    "import pandas as pd\n",
    "df_hyperparameters = pd.read_csv('./hyperparameters.csv')\n",
    "df_hyperparameters"
   ]
  },
  {
   "cell_type": "code",
   "execution_count": 12,
   "metadata": {},
   "outputs": [
    {
     "data": {
      "application/vnd.jupyter.widget-view+json": {
       "model_id": "d559daeb90fa4d699e721649fb028709",
       "version_major": 2,
       "version_minor": 0
      },
      "text/plain": [
       "HBox(children=(IntProgress(value=1, bar_style='info', max=1), HTML(value='')))"
      ]
     },
     "metadata": {},
     "output_type": "display_data"
    },
    {
     "name": "stdout",
     "output_type": "stream",
     "text": [
      "_BUFFER_SIZE         100000.000\n",
      "_BATCH_SIZE             128.000\n",
      "_GAMMA                    0.990\n",
      "_TAU                      0.001\n",
      "_LR_ACTOR                 0.001\n",
      "_LR_CRITIC                0.001\n",
      "_WEIGHT_DECAY             0.000\n",
      "_mu                       0.000\n",
      "_theta                    0.150\n",
      "_sigma                    0.100\n",
      "_actor_fc1_units        128.000\n",
      "_actor_fc2_units        128.000\n",
      "_critic_fc1_units       128.000\n",
      "_critic_fc2_units       128.000\n",
      "Name: 0, dtype: float64\n",
      "Episode 50\tAverage Score: 0.65"
     ]
    },
    {
     "data": {
      "image/png": "[encoded data removed]",
      "text/plain": [
       "<Figure size 432x288 with 1 Axes>"
      ]
     },
     "metadata": {
      "needs_background": "light"
     },
     "output_type": "display_data"
    },
    {
     "name": "stdout",
     "output_type": "stream",
     "text": [
      "_BUFFER_SIZE         100000.0000\n",
      "_BATCH_SIZE             128.0000\n",
      "_GAMMA                    0.9900\n",
      "_TAU                      0.0010\n",
      "_LR_ACTOR                 0.0001\n",
      "_LR_CRITIC                0.0001\n",
      "_WEIGHT_DECAY             0.0000\n",
      "_mu                       0.0000\n",
      "_theta                    0.1500\n",
      "_sigma                    0.1000\n",
      "_actor_fc1_units        128.0000\n",
      "_actor_fc2_units        128.0000\n",
      "_critic_fc1_units       128.0000\n",
      "_critic_fc2_units       128.0000\n",
      "Name: 1, dtype: float64\n",
      "Episode 50\tAverage Score: 9.21"
     ]
    },
    {
     "data": {
      "image/png": "[encoded data removed]",
      "text/plain": [
       "<Figure size 432x288 with 1 Axes>"
      ]
     },
     "metadata": {
      "needs_background": "light"
     },
     "output_type": "display_data"
    },
    {
     "name": "stdout",
     "output_type": "stream",
     "text": [
      "_BUFFER_SIZE         100000.0000\n",
      "_BATCH_SIZE             128.0000\n",
      "_GAMMA                    0.9000\n",
      "_TAU                      0.0010\n",
      "_LR_ACTOR                 0.0001\n",
      "_LR_CRITIC                0.0001\n",
      "_WEIGHT_DECAY             0.0000\n",
      "_mu                       0.0000\n",
      "_theta                    0.1500\n",
      "_sigma                    0.1000\n",
      "_actor_fc1_units        128.0000\n",
      "_actor_fc2_units        128.0000\n",
      "_critic_fc1_units       128.0000\n",
      "_critic_fc2_units       128.0000\n",
      "Name: 2, dtype: float64\n",
      "Episode 50\tAverage Score: 23.72"
     ]
    },
    {
     "data": {
      "image/png": "[encoded data removed]",
      "text/plain": [
       "<Figure size 432x288 with 1 Axes>"
      ]
     },
     "metadata": {
      "needs_background": "light"
     },
     "output_type": "display_data"
    },
    {
     "name": "stdout",
     "output_type": "stream",
     "text": [
      "_BUFFER_SIZE         100000.0000\n",
      "_BATCH_SIZE             128.0000\n",
      "_GAMMA                    0.9000\n",
      "_TAU                      0.0010\n",
      "_LR_ACTOR                 0.0001\n",
      "_LR_CRITIC                0.0001\n",
      "_WEIGHT_DECAY             0.0000\n",
      "_mu                       0.0000\n",
      "_theta                    0.1500\n",
      "_sigma                    0.1000\n",
      "_actor_fc1_units         64.0000\n",
      "_actor_fc2_units         32.0000\n",
      "_critic_fc1_units        64.0000\n",
      "_critic_fc2_units        32.0000\n",
      "Name: 3, dtype: float64\n",
      "Episode 50\tAverage Score: 27.61"
     ]
    },
    {
     "data": {
      "image/png": "[encoded data removed]",
      "text/plain": [
       "<Figure size 432x288 with 1 Axes>"
      ]
     },
     "metadata": {
      "needs_background": "light"
     },
     "output_type": "display_data"
    },
    {
     "name": "stdout",
     "output_type": "stream",
     "text": [
      "\n"
     ]
    }
   ],
   "source": [
    "from tqdm import tqdm_notebook as tqdm\n",
    "\n",
    "for index, row in tqdm(df_hyperparameters.iterrows()):\n",
    "    print(row)\n",
    "    agent = Agent(state_size, action_size, 2,\n",
    "                int(row[\"_BUFFER_SIZE\"]),\n",
    "                int(row[\"_BATCH_SIZE\"]),\n",
    "                row[\"_GAMMA\"],\n",
    "                row[\"_TAU\"],\n",
    "                row[\"_LR_ACTOR\"], \n",
    "                row[\"_LR_CRITIC\"],\n",
    "                row[\"_WEIGHT_DECAY\"],\n",
    "                row[\"_mu\"],\n",
    "                row[\"_theta\"],\n",
    "                row[\"_sigma\"],\n",
    "                int(row[\"_actor_fc1_units\"]),\n",
    "                int(row[\"_actor_fc2_units\"]),\n",
    "                int(row[\"_critic_fc1_units\"]),\n",
    "                int(row[\"_critic_fc2_units\"]))\n",
    "    plotscores(ddpg(agent, 50))"
   ]
  },
  {
   "cell_type": "markdown",
   "metadata": {},
   "source": [
    "### Lessons learned from the hyperparameter search\n",
    "\n",
    "Seeing the above results, the hyperparameter updates in the table impacts learning as below. (No. is the index in the hyperparameter table above.)\n",
    "\n",
    "- From No. 1 to No. 2 : LR (Learning Rate) for the critic granurality is important to converge the learning.\n",
    "- From No. 2 to No. 3 : Lower Gamma values accelerate learnings and even get better results. Impacts on the values obtained from the longer past actions/state affects relativerly smaller in this case.\n",
    "- From No. 3 to No. 4 : Neural network size does not need to be large. It may be because the state is only 33, and the action is only 4 in this case.\n",
    "\n",
    "Baed on the above considerations, here I run the experiment as the following."
   ]
  },
  {
   "cell_type": "markdown",
   "metadata": {},
   "source": [
    "### 5. Report version of hyperparemeters\n",
    "\n",
    "Following is the hyper parameters used this time for reporting from the lessons obtained from the above guess."
   ]
  },
  {
   "cell_type": "markdown",
   "metadata": {},
   "source": [
    "#### Hyperparameters"
   ]
  },
  {
   "cell_type": "code",
   "execution_count": 13,
   "metadata": {},
   "outputs": [],
   "source": [
    "_BUFFER_SIZE = int(1e6)  # replay buffer size\n",
    "_BATCH_SIZE = 256        # minibatch size\n",
    "_GAMMA = 0.90            # discount factor\n",
    "_TAU = 1e-3              # for soft update of target parameters\n",
    "_LR_ACTOR = 1e-4         # learning rate of the actor \n",
    "_LR_CRITIC = 1e-4        # learning rate of the critic\n",
    "_WEIGHT_DECAY = 0        # L2 weight decay\n",
    "_mu=0.                   # Ornstein-Uhlenbeck noise parameters\n",
    "_theta=0.15              # Ornstein-Uhlenbeck noise parameters\n",
    "_sigma=0.1               # Ornstein-Uhlenbeck noise parameters\n",
    "_actor_fc1_units=64\n",
    "_actor_fc2_units=32\n",
    "_critic_fc1_units=64\n",
    "_critic_fc2_units=32"
   ]
  },
  {
   "cell_type": "code",
   "execution_count": 14,
   "metadata": {},
   "outputs": [],
   "source": [
    "agent = Agent(state_size=state_size, action_size=action_size, random_seed=2,\n",
    "    BUFFER_SIZE = _BUFFER_SIZE,  # replay buffer size\n",
    "    BATCH_SIZE = _BATCH_SIZE,        # minibatch size\n",
    "    GAMMA = _GAMMA,            # discount factor\n",
    "    TAU = _TAU,              # for soft update of target parameters\n",
    "    LR_ACTOR = _LR_ACTOR,         # learning rate of the actor \n",
    "    LR_CRITIC = _LR_CRITIC,        # learning rate of the critic\n",
    "    WEIGHT_DECAY = _WEIGHT_DECAY,       # L2 weight decay\n",
    "    mu = _mu,\n",
    "    theta= _theta,\n",
    "    sigma= _sigma)"
   ]
  },
  {
   "cell_type": "markdown",
   "metadata": {},
   "source": [
    "#### Run the learning step and get the performance"
   ]
  },
  {
   "cell_type": "code",
   "execution_count": 15,
   "metadata": {},
   "outputs": [
    {
     "name": "stdout",
     "output_type": "stream",
     "text": [
      "Environment solved in 21 episodes with an Average Score of 30.21\n",
      "Episode 100\tAverage Score: 30.06\n",
      "Episode 120\tAverage Score: 30.63"
     ]
    },
    {
     "data": {
      "image/png": "[encoded data removed]",
      "text/plain": [
       "<Figure size 432x288 with 1 Axes>"
      ]
     },
     "metadata": {
      "needs_background": "light"
     },
     "output_type": "display_data"
    }
   ],
   "source": [
    "plotscores(ddpg(agent, 120))"
   ]
  },
  {
   "cell_type": "markdown",
   "metadata": {},
   "source": [
    "This model reached to +30 at 21st episodes end. The learning result was stable to get score above +30."
   ]
  },
  {
   "cell_type": "markdown",
   "metadata": {},
   "source": [
    "### GPU usage\n",
    "\n",
    "Following is the GPU (NVIDIA RTX 2060 usage) during the learning phase.\n",
    "31% of utilization rate indicates, theare are more room for GPU usage to improve learning performant.\n",
    "Also 1175MB is used out of 5904MB.\n",
    "\n",
    "| NVIDIA-SMI 418.67   |   Driver Version: 418.67    |  CUDA Version: 10.1     |\n",
    "|-------------------------------|----------------------|----------------------|\n",
    "| GPU  Name        Persistence-M<br>Fan  Temp  Perf  Pwr:Usage/Cap| Bus-Id        Disp.A<br>Memory-Usage | Volatile Uncorr. ECC<br>GPU-Util  Compute M. |\n",
    "|   0  GeForce RTX 2060    On<br>N/A   52C    P2    42W /  N/A   | 00000000:01:00.0 Off<br>1175MiB /  5904MiB |                  N/A<br>31%      Default |"
   ]
  },
  {
   "cell_type": "markdown",
   "metadata": {},
   "source": [
    "### 6. Watch a Smart Agent!\n",
    "\n",
    "From above the best model is stores as\n",
    "\n",
    "* 'checkpoint_actor.pth' for actor newtork\n",
    "* 'checkpoint_critic.pth' for critic network\n",
    "\n",
    "Using these we can play the unity environemt, and get the score out of is as below.\n",
    "We can see that good score can be obtained with those learned models."
   ]
  },
  {
   "cell_type": "code",
   "execution_count": 16,
   "metadata": {},
   "outputs": [
    {
     "name": "stdout",
     "output_type": "stream",
     "text": [
      "Total score (averaged over agents) this episode: 38.93799912966788\n"
     ]
    }
   ],
   "source": [
    "agent.actor_local.load_state_dict(torch.load('checkpoint_actor.pth'))\n",
    "agent.critic_local.load_state_dict(torch.load('checkpoint_critic.pth'))\n",
    "\n",
    "env_info = env.reset(train_mode=False)[brain_name]     # reset the environment    \n",
    "states = env_info.vector_observations                  # get the current state (for each agent)\n",
    "scores = np.zeros(num_agents)                          # initialize the score (for each agent)\n",
    "while True:\n",
    "    actions = agent.act(states)                        # select an action (for each agent)\n",
    "    env_info = env.step(actions)[brain_name]           # send all actions to tne environment\n",
    "    next_states = env_info.vector_observations         # get next state (for each agent)\n",
    "    rewards = env_info.rewards                         # get reward (for each agent)\n",
    "    dones = env_info.local_done                        # see if episode finished\n",
    "    scores += env_info.rewards                         # update the score (for each agent)\n",
    "    states = next_states                               # roll over states to next time step\n",
    "    if np.any(dones):                                  # exit loop if episode finished\n",
    "        break\n",
    "print('Total score (averaged over agents) this episode: {}'.format(np.mean(scores)))\n",
    "\n"
   ]
  },
  {
   "cell_type": "markdown",
   "metadata": {},
   "source": [
    "When finished, you can close the environment."
   ]
  },
  {
   "cell_type": "code",
   "execution_count": 17,
   "metadata": {},
   "outputs": [],
   "source": [
    "env.close()"
   ]
  },
  {
   "cell_type": "markdown",
   "metadata": {},
   "source": [
    "### Future Work for Improvements\n",
    "\n",
    "This time the hyperparameters are adjusted to achive fast convergence to the target score 30.\n",
    "But as can be seen in the GPU utilization, there are more rooms to use the GPU to make the learning phase faster.\n",
    "Size of the Neural network and improving parralel execution of the learning can be consered here.\n",
    "\n",
    "On the other hand, only the time for convergence is evaluated, but the stability of the learning is not evaluated here.\n",
    "I should be better evaluate the stability of learning by evaluating the score distribution around the average score."
   ]
  }
 ],
 "metadata": {
  "kernelspec": {
   "display_name": "drlnd",
   "language": "python",
   "name": "drlnd"
  },
  "language_info": {
   "codemirror_mode": {
    "name": "ipython",
    "version": 3
   },
   "file_extension": ".py",
   "mimetype": "text/x-python",
   "name": "python",
   "nbconvert_exporter": "python",
   "pygments_lexer": "ipython3",
   "version": "3.6.8"
  }
 },
 "nbformat": 4,
 "nbformat_minor": 2
}
